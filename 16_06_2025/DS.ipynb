{
 "cells": [
  {
   "cell_type": "markdown",
   "id": "dbb9868b-76fc-4de3-9cd6-2d490935390e",
   "metadata": {},
   "source": [
    "### Data Structures"
   ]
  },
  {
   "cell_type": "code",
   "execution_count": 2,
   "id": "6a805d71-92bd-4954-bd7b-c65c4523345e",
   "metadata": {},
   "outputs": [],
   "source": [
    "randomList =  [1,2,3,4,5,6]"
   ]
  },
  {
   "cell_type": "markdown",
   "id": "092a3751-ba5b-40ea-b080-81bf2334ea4f",
   "metadata": {},
   "source": [
    "#### Multiply all the odd nos."
   ]
  },
  {
   "cell_type": "code",
   "execution_count": 3,
   "id": "16e859b0-6b96-4fa5-8f88-635119711fdc",
   "metadata": {},
   "outputs": [
    {
     "name": "stdout",
     "output_type": "stream",
     "text": [
      "15\n"
     ]
    }
   ],
   "source": [
    "result = 1\n",
    "for _ in randomList:\n",
    "    if _ % 2 != 0:\n",
    "        result *= _\n",
    "print(result)"
   ]
  },
  {
   "cell_type": "code",
   "execution_count": null,
   "id": "510a2f79",
   "metadata": {},
   "outputs": [],
   "source": []
  }
 ],
 "metadata": {
  "kernelspec": {
   "display_name": "Python 3",
   "language": "python",
   "name": "python3"
  },
  "language_info": {
   "codemirror_mode": {
    "name": "ipython",
    "version": 3
   },
   "file_extension": ".py",
   "mimetype": "text/x-python",
   "name": "python",
   "nbconvert_exporter": "python",
   "pygments_lexer": "ipython3",
   "version": "3.13.1"
  }
 },
 "nbformat": 4,
 "nbformat_minor": 5
}
